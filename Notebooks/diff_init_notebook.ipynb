{
 "cells": [
  {
   "cell_type": "code",
   "execution_count": null,
   "metadata": {},
   "outputs": [],
   "source": [
    "# imports\n",
    "import wandb\n",
    "import torch\n",
    "from model_fusion.config import BASE_DATA_DIR, CHECKPOINT_DIR\n",
    "from pathlib import Path\n",
    "f\n",
    "from model_fusion.train import setup_training\n",
    "from model_fusion.datasets import DataModuleType\n",
    "from model_fusion.models import ModelType\n",
    "from model_fusion.models.lightning import BaseModel\n",
    "import mimport model_fusion.lmc_utils as lmc"
   ]
  },
  {
   "cell_type": "code",
   "execution_count": null,
   "metadata": {},
   "outputs": [],
   "source": [
    "# loading models\n",
    "batch_size = 256\n",
    "max_epochs = 1\n",
    "datamodule_type = DataModuleType.CIFAR10\n",
    "datamodule_hparams = {'batch_size': batch_size, 'data_dir': BASE_DATA_DIR}\n",
    "\n",
    "model_type = ModelType.RESNET18\n",
    "model_hparams = {'num_classes': 10, 'num_channels': 3, 'bias': False}\n",
    "\n",
    "# same checkpoint for debugging purposes\n",
    "checkpointA = 'model-fusion/Model Fusion/model-95shkeqb:best'\n",
    "checkpointB = 'model-fusion/Model Fusion/model-95shkeqb:best'\n",
    "\n",
    "print(\"------- Loading models -------\")\n",
    "run = wandb.init()\n",
    "\n",
    "artifact = run.use_artifact(checkpointA, type='model')\n",
    "artifact_dir = artifact.download(root=CHECKPOINT_DIR)\n",
    "modelA = BaseModel.load_from_checkpoint(Path(artifact_dir)/\"model.ckpt\")\n",
    "\n",
    "artifact = run.use_artifact(checkpointB, type='model')\n",
    "artifact_dir = artifact.download(root=CHECKPOINT_DIR)\n",
    "modelB = BaseModel.load_from_checkpoint(Path(artifact_dir)/\"model.ckpt\")\n",
    "\n",
    "models = [modelA, modelB]\n",
    "\n",
    "print(\"Done loading all the models\")"
   ]
  },
  {
   "cell_type": "code",
   "execution_count": null,
   "metadata": {},
   "outputs": [],
   "source": [
    "# LMC barrier\n",
    "\n"
   ]
  },
  {
   "cell_type": "code",
   "execution_count": null,
   "metadata": {},
   "outputs": [],
   "source": [
    "# Baselines (prediction ensembling, vanilla averaging)"
   ]
  },
  {
   "cell_type": "code",
   "execution_count": null,
   "metadata": {},
   "outputs": [],
   "source": [
    "# OT model fusion + eval aligned model "
   ]
  },
  {
   "cell_type": "code",
   "execution_count": null,
   "metadata": {},
   "outputs": [],
   "source": [
    "# Comparison I (compute sharpness and eigenspectrum of vanilla avg and ot fusion solutions)"
   ]
  },
  {
   "cell_type": "code",
   "execution_count": null,
   "metadata": {},
   "outputs": [],
   "source": [
    "# finetuning"
   ]
  },
  {
   "cell_type": "code",
   "execution_count": null,
   "metadata": {},
   "outputs": [],
   "source": [
    "# Comparison II (compute sharpness of finetuned solutions)"
   ]
  }
 ],
 "metadata": {
  "language_info": {
   "name": "python"
  }
 },
 "nbformat": 4,
 "nbformat_minor": 2
}
