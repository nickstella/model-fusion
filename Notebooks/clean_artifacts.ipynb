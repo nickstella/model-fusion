{
 "cells": [
  {
   "cell_type": "code",
   "execution_count": null,
   "metadata": {},
   "outputs": [],
   "source": [
    "import wandb\n",
    "\n",
    "\n",
    "api = wandb.Api(overrides={\n",
    "    \"project\": \"Model Fusion\",\n",
    "    \"entity\": \"model-fusion\"\n",
    "    })\n",
    "\n",
    "for run in api.runs(per_page=1000):\n",
    "    print(run.name, run.id)\n",
    "    artifact_type = 'model'\n",
    "    artifact_name = f'model-{run.id}'\n",
    "    try:\n",
    "        for v in api.artifact_versions(artifact_type, artifact_name):\n",
    "            if 'best_k' not in v.aliases and 'best' not in v.aliases:\n",
    "                # print(v.name, v.aliases)\n",
    "                v.delete()\n",
    "            else:\n",
    "                print(v.name, v.aliases, 'KEEP')\n",
    "    except:\n",
    "        print('Artifact not found')"
   ]
  }
 ],
 "metadata": {
  "kernelspec": {
   "display_name": ".venv",
   "language": "python",
   "name": "python3"
  },
  "language_info": {
   "codemirror_mode": {
    "name": "ipython",
    "version": 3
   },
   "file_extension": ".py",
   "mimetype": "text/x-python",
   "name": "python",
   "nbconvert_exporter": "python",
   "pygments_lexer": "ipython3",
   "version": "3.11.0"
  }
 },
 "nbformat": 4,
 "nbformat_minor": 2
}
