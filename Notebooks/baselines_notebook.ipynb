{
 "cells": [
  {
   "cell_type": "code",
   "execution_count": null,
   "metadata": {},
   "outputs": [],
   "source": [
    "from Experiments import baselines_experiment\n",
    "from model_fusion.datasets import DataModuleType\n",
    "from model_fusion.models import ModelType\n",
    "from model_fusion.config import BASE_DATA_DIR\n",
    "\n",
    "batch_size = 256\n",
    "max_epochs = 1\n",
    "datamodule_type = DataModuleType.CIFAR10\n",
    "datamodule_hparams = {'batch_size': batch_size, 'data_dir': BASE_DATA_DIR}\n",
    "\n",
    "model_type = ModelType.RESNET18\n",
    "model_hparams = {'num_classes': 10, 'num_channels': 3, 'bias': False}\n",
    "\n",
    "# same checkpoint for debugging purposes\n",
    "checkpointA = 'model-fusion/Model Fusion/model-95shkeqb:best'\n",
    "checkpointB = 'model-fusion/Model Fusion/model-95shkeqb:best'\n",
    "\n",
    "wandb_tag = \"baseline ensembles\"\n",
    "\n",
    "baselines_experiment.run_baselines(\n",
    "    batch_size=batch_size,\n",
    "    max_epochs=max_epochs,\n",
    "    datamodule_type=datamodule_type,\n",
    "    datamodule_hparams=datamodule_hparams,\n",
    "    model_type=model_type,\n",
    "    model_hparams=model_hparams,\n",
    "    checkpointA=checkpointA,\n",
    "    checkpointB=checkpointB,\n",
    "    wandb_tag=wandb_tag,\n",
    ")"
   ]
  }
 ],
 "metadata": {
  "kernelspec": {
   "display_name": ".venv",
   "language": "python",
   "name": "python3"
  },
  "language_info": {
   "codemirror_mode": {
    "name": "ipython",
    "version": 3
   },
   "file_extension": ".py",
   "mimetype": "text/x-python",
   "name": "python",
   "nbconvert_exporter": "python",
   "pygments_lexer": "ipython3",
   "version": "3.11.5"
  }
 },
 "nbformat": 4,
 "nbformat_minor": 2
}
